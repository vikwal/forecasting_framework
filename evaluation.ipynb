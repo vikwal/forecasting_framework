{
 "cells": [
  {
   "cell_type": "markdown",
   "id": "0ad07925",
   "metadata": {},
   "source": [
    "# Evaluation Notebook"
   ]
  },
  {
   "cell_type": "code",
   "execution_count": 14,
   "id": "fbb93ad1",
   "metadata": {},
   "outputs": [],
   "source": [
    "import os\n",
    "import pickle\n",
    "import pandas as pd\n",
    "import matplotlib.pyplot as plt\n",
    "from collections import defaultdict\n",
    "\n",
    "from utils.tools import load_config"
   ]
  },
  {
   "cell_type": "code",
   "execution_count": 15,
   "id": "4c3fe020",
   "metadata": {},
   "outputs": [],
   "source": [
    "data = 'reninja_n_dwd'\n",
    "\n",
    "config = load_config('config.yaml')\n",
    "results_dir = config['eval']['results_path']\n",
    "results_dir = os.path.join(results_dir, data)\n",
    "result_files = os.listdir(results_dir)\n",
    "# pickle files where training was performed on single dataset sequentially\n",
    "sims = [f for f in result_files if (f.endswith('.pkl')) & ('cl' not in f) & ('fl' not in f)]\n",
    "# pickle files where training was performed on concatenated datasets (centralized learning)\n",
    "cl_sims = [f for f in result_files if 'cl' in f]\n",
    "# pickle files for federated learning simulations\n",
    "fl_sims = [f for f in result_files if 'fl' in f]\n",
    "persistence_file = [f for f in result_files if 'persistence' in f]\n",
    "if persistence_file:\n",
    "    persistence_file = persistence_file[0]"
   ]
  },
  {
   "cell_type": "code",
   "execution_count": null,
   "id": "c7787be0",
   "metadata": {},
   "outputs": [],
   "source": [
    "def concatenate_results(results_dir: str,\n",
    "                        results: list,\n",
    "                        index_cols: list,\n",
    "                        get_skill: bool = False,\n",
    "                        pers: pd.DataFrame = pd.DataFrame(),\n",
    "                        sort_skill: bool = False) -> pd.DataFrame:\n",
    "    indices = defaultdict(list)\n",
    "    metrics = []\n",
    "    if not results:\n",
    "        print('No data found.')\n",
    "        return None\n",
    "    # initialize the dict list\n",
    "    for file in results:  # Iterate through all result files\n",
    "        # Load the data\n",
    "        with open(os.path.join(results_dir, file), 'rb') as f:\n",
    "            pkl = pickle.load(f)\n",
    "        df = pkl['evaluation']\n",
    "        df.reset_index(inplace=True)\n",
    "        if get_skill:\n",
    "            df= pd.merge(df, pers[['RMSE', 'key', 'output_dim', 'freq']],\n",
    "               on=['key', 'output_dim', 'freq'],\n",
    "               how='left',\n",
    "               suffixes=('', '_p'))\n",
    "            df['Skill'] = 1 - df.RMSE / df.RMSE_p\n",
    "            df.drop('RMSE_p', axis=1, inplace=True)\n",
    "        for col in index_cols:\n",
    "            indices[col].append(df[col].iloc[0])\n",
    "        df.drop(index_cols, axis=1, inplace=True)\n",
    "        if len(df) != 1:\n",
    "            df.drop('key', axis=1, inplace=True)\n",
    "        metric = df.mean(axis=0)\n",
    "        metrics.append(metric)\n",
    "    df = pd.DataFrame(metrics, columns=metric.index)\n",
    "    df_index = pd.DataFrame(indices)\n",
    "    df = pd.concat([df, df_index], axis=1)\n",
    "    df.sort_values(['output_dim', 'freq', 'Models'], inplace=True)\n",
    "    if sort_skill:\n",
    "        df.sort_values(['Skill'], ascending=False, inplace=True)\n",
    "    return df\n",
    "\n",
    "def read_sim(results_dir, sim):\n",
    "    try:\n",
    "        with open(os.path.join(results_dir, sim), 'rb') as f:\n",
    "            sim_results = pickle.load(f)\n",
    "    except:\n",
    "        sim_results = None\n",
    "    return sim_results"
   ]
  },
  {
   "cell_type": "code",
   "execution_count": 5,
   "id": "dd0440eb",
   "metadata": {},
   "outputs": [
    {
     "ename": "TypeError",
     "evalue": "join() argument must be str, bytes, or os.PathLike object, not 'list'",
     "output_type": "error",
     "traceback": [
      "\u001b[0;31m---------------------------------------------------------------------------\u001b[0m",
      "\u001b[0;31mTypeError\u001b[0m                                 Traceback (most recent call last)",
      "\u001b[0;32m/tmp/ipykernel_260180/2160972461.py\u001b[0m in \u001b[0;36m<module>\u001b[0;34m\u001b[0m\n\u001b[0;32m----> 1\u001b[0;31m \u001b[0mpers\u001b[0m \u001b[0;34m=\u001b[0m \u001b[0mpd\u001b[0m\u001b[0;34m.\u001b[0m\u001b[0mread_csv\u001b[0m\u001b[0;34m(\u001b[0m\u001b[0mos\u001b[0m\u001b[0;34m.\u001b[0m\u001b[0mpath\u001b[0m\u001b[0;34m.\u001b[0m\u001b[0mjoin\u001b[0m\u001b[0;34m(\u001b[0m\u001b[0mresults_dir\u001b[0m\u001b[0;34m,\u001b[0m \u001b[0mpersistence_file\u001b[0m\u001b[0;34m)\u001b[0m\u001b[0;34m)\u001b[0m\u001b[0;34m\u001b[0m\u001b[0;34m\u001b[0m\u001b[0m\n\u001b[0m",
      "\u001b[0;32m/usr/lib/python3.10/posixpath.py\u001b[0m in \u001b[0;36mjoin\u001b[0;34m(a, *p)\u001b[0m\n\u001b[1;32m     88\u001b[0m                 \u001b[0mpath\u001b[0m \u001b[0;34m+=\u001b[0m \u001b[0msep\u001b[0m \u001b[0;34m+\u001b[0m \u001b[0mb\u001b[0m\u001b[0;34m\u001b[0m\u001b[0;34m\u001b[0m\u001b[0m\n\u001b[1;32m     89\u001b[0m     \u001b[0;32mexcept\u001b[0m \u001b[0;34m(\u001b[0m\u001b[0mTypeError\u001b[0m\u001b[0;34m,\u001b[0m \u001b[0mAttributeError\u001b[0m\u001b[0;34m,\u001b[0m \u001b[0mBytesWarning\u001b[0m\u001b[0;34m)\u001b[0m\u001b[0;34m:\u001b[0m\u001b[0;34m\u001b[0m\u001b[0;34m\u001b[0m\u001b[0m\n\u001b[0;32m---> 90\u001b[0;31m         \u001b[0mgenericpath\u001b[0m\u001b[0;34m.\u001b[0m\u001b[0m_check_arg_types\u001b[0m\u001b[0;34m(\u001b[0m\u001b[0;34m'join'\u001b[0m\u001b[0;34m,\u001b[0m \u001b[0ma\u001b[0m\u001b[0;34m,\u001b[0m \u001b[0;34m*\u001b[0m\u001b[0mp\u001b[0m\u001b[0;34m)\u001b[0m\u001b[0;34m\u001b[0m\u001b[0;34m\u001b[0m\u001b[0m\n\u001b[0m\u001b[1;32m     91\u001b[0m         \u001b[0;32mraise\u001b[0m\u001b[0;34m\u001b[0m\u001b[0;34m\u001b[0m\u001b[0m\n\u001b[1;32m     92\u001b[0m     \u001b[0;32mreturn\u001b[0m \u001b[0mpath\u001b[0m\u001b[0;34m\u001b[0m\u001b[0;34m\u001b[0m\u001b[0m\n",
      "\u001b[0;32m/usr/lib/python3.10/genericpath.py\u001b[0m in \u001b[0;36m_check_arg_types\u001b[0;34m(funcname, *args)\u001b[0m\n\u001b[1;32m    150\u001b[0m             \u001b[0mhasbytes\u001b[0m \u001b[0;34m=\u001b[0m \u001b[0;32mTrue\u001b[0m\u001b[0;34m\u001b[0m\u001b[0;34m\u001b[0m\u001b[0m\n\u001b[1;32m    151\u001b[0m         \u001b[0;32melse\u001b[0m\u001b[0;34m:\u001b[0m\u001b[0;34m\u001b[0m\u001b[0;34m\u001b[0m\u001b[0m\n\u001b[0;32m--> 152\u001b[0;31m             raise TypeError(f'{funcname}() argument must be str, bytes, or '\n\u001b[0m\u001b[1;32m    153\u001b[0m                             f'os.PathLike object, not {s.__class__.__name__!r}') from None\n\u001b[1;32m    154\u001b[0m     \u001b[0;32mif\u001b[0m \u001b[0mhasstr\u001b[0m \u001b[0;32mand\u001b[0m \u001b[0mhasbytes\u001b[0m\u001b[0;34m:\u001b[0m\u001b[0;34m\u001b[0m\u001b[0;34m\u001b[0m\u001b[0m\n",
      "\u001b[0;31mTypeError\u001b[0m: join() argument must be str, bytes, or os.PathLike object, not 'list'"
     ]
    }
   ],
   "source": [
    "pers = pd.read_csv(os.path.join(results_dir, persistence_file))"
   ]
  },
  {
   "cell_type": "markdown",
   "id": "a8c2891f",
   "metadata": {},
   "source": [
    "Local simulation analysis - 1 dataset : 1 model "
   ]
  },
  {
   "cell_type": "code",
   "execution_count": 6,
   "id": "b9c306e4",
   "metadata": {},
   "outputs": [
    {
     "name": "stderr",
     "output_type": "stream",
     "text": [
      "I0000 00:00:1748939048.229131 1375615 gpu_device.cc:2022] Created device /job:localhost/replica:0/task:0/device:GPU:0 with 46209 MB memory:  -> device: 0, name: NVIDIA RTX A6000, pci bus id: 0000:01:00.0, compute capability: 8.6\n",
      "I0000 00:00:1748939048.232087 1375615 gpu_device.cc:2022] Created device /job:localhost/replica:0/task:0/device:GPU:1 with 46683 MB memory:  -> device: 1, name: NVIDIA RTX A6000, pci bus id: 0000:25:00.0, compute capability: 8.6\n",
      "I0000 00:00:1748939048.234760 1375615 gpu_device.cc:2022] Created device /job:localhost/replica:0/task:0/device:GPU:2 with 46731 MB memory:  -> device: 2, name: NVIDIA RTX A6000, pci bus id: 0000:41:00.0, compute capability: 8.6\n",
      "I0000 00:00:1748939048.237394 1375615 gpu_device.cc:2022] Created device /job:localhost/replica:0/task:0/device:GPU:3 with 46717 MB memory:  -> device: 3, name: NVIDIA RTX A6000, pci bus id: 0000:61:00.0, compute capability: 8.6\n",
      "I0000 00:00:1748939048.240031 1375615 gpu_device.cc:2022] Created device /job:localhost/replica:0/task:0/device:GPU:4 with 46731 MB memory:  -> device: 4, name: NVIDIA RTX A6000, pci bus id: 0000:81:00.0, compute capability: 8.6\n",
      "I0000 00:00:1748939048.242684 1375615 gpu_device.cc:2022] Created device /job:localhost/replica:0/task:0/device:GPU:5 with 46731 MB memory:  -> device: 5, name: NVIDIA RTX A6000, pci bus id: 0000:a1:00.0, compute capability: 8.6\n",
      "I0000 00:00:1748939048.245389 1375615 gpu_device.cc:2022] Created device /job:localhost/replica:0/task:0/device:GPU:6 with 46731 MB memory:  -> device: 6, name: NVIDIA RTX A6000, pci bus id: 0000:c1:00.0, compute capability: 8.6\n",
      "I0000 00:00:1748939048.248045 1375615 gpu_device.cc:2022] Created device /job:localhost/replica:0/task:0/device:GPU:7 with 46465 MB memory:  -> device: 7, name: NVIDIA RTX A6000, pci bus id: 0000:e1:00.0, compute capability: 8.6\n"
     ]
    },
    {
     "data": {
      "text/html": [
       "<div>\n",
       "<style scoped>\n",
       "    .dataframe tbody tr th:only-of-type {\n",
       "        vertical-align: middle;\n",
       "    }\n",
       "\n",
       "    .dataframe tbody tr th {\n",
       "        vertical-align: top;\n",
       "    }\n",
       "\n",
       "    .dataframe thead th {\n",
       "        text-align: right;\n",
       "    }\n",
       "</style>\n",
       "<table border=\"1\" class=\"dataframe\">\n",
       "  <thead>\n",
       "    <tr style=\"text-align: right;\">\n",
       "      <th></th>\n",
       "      <th>R^2</th>\n",
       "      <th>RMSE</th>\n",
       "      <th>MAE</th>\n",
       "      <th>Skill</th>\n",
       "    </tr>\n",
       "    <tr>\n",
       "      <th>Models</th>\n",
       "      <th></th>\n",
       "      <th></th>\n",
       "      <th></th>\n",
       "      <th></th>\n",
       "    </tr>\n",
       "  </thead>\n",
       "  <tbody>\n",
       "    <tr>\n",
       "      <th>tcn-gru</th>\n",
       "      <td>0.8103</td>\n",
       "      <td>0.117</td>\n",
       "      <td>0.0765</td>\n",
       "      <td>0.241</td>\n",
       "    </tr>\n",
       "  </tbody>\n",
       "</table>\n",
       "</div>"
      ],
      "text/plain": [
       "            R^2   RMSE     MAE  Skill\n",
       "Models                               \n",
       "tcn-gru  0.8103  0.117  0.0765  0.241"
      ]
     },
     "execution_count": 6,
     "metadata": {},
     "output_type": "execute_result"
    }
   ],
   "source": [
    "index_cols = ['Models', 'output_dim', 'freq', 't_0']\n",
    "df_sep = concatenate_results(results_dir=results_dir, results=sims, index_cols=index_cols)\n",
    "df_sep[['R^2', 'RMSE', 'MAE', 'Skill', 'Models']].round(4).set_index('Models')"
   ]
  },
  {
   "cell_type": "markdown",
   "id": "49b8728e",
   "metadata": {},
   "source": [
    "Federated simulation analysis - N datasets : 1 model"
   ]
  },
  {
   "cell_type": "code",
   "execution_count": 6,
   "id": "4d37c81e",
   "metadata": {},
   "outputs": [
    {
     "data": {
      "text/html": [
       "<div>\n",
       "<style scoped>\n",
       "    .dataframe tbody tr th:only-of-type {\n",
       "        vertical-align: middle;\n",
       "    }\n",
       "\n",
       "    .dataframe tbody tr th {\n",
       "        vertical-align: top;\n",
       "    }\n",
       "\n",
       "    .dataframe thead th {\n",
       "        text-align: right;\n",
       "    }\n",
       "</style>\n",
       "<table border=\"1\" class=\"dataframe\">\n",
       "  <thead>\n",
       "    <tr style=\"text-align: right;\">\n",
       "      <th></th>\n",
       "      <th>R^2</th>\n",
       "      <th>RMSE</th>\n",
       "      <th>MAE</th>\n",
       "      <th>Skill</th>\n",
       "      <th>strategy</th>\n",
       "      <th>personalization</th>\n",
       "    </tr>\n",
       "    <tr>\n",
       "      <th>Models</th>\n",
       "      <th></th>\n",
       "      <th></th>\n",
       "      <th></th>\n",
       "      <th></th>\n",
       "      <th></th>\n",
       "      <th></th>\n",
       "    </tr>\n",
       "  </thead>\n",
       "  <tbody>\n",
       "    <tr>\n",
       "      <th>tcn-gru</th>\n",
       "      <td>0.956</td>\n",
       "      <td>0.0309</td>\n",
       "      <td>0.0161</td>\n",
       "      <td>0.6575</td>\n",
       "      <td>fedavg</td>\n",
       "      <td>False</td>\n",
       "    </tr>\n",
       "  </tbody>\n",
       "</table>\n",
       "</div>"
      ],
      "text/plain": [
       "           R^2    RMSE     MAE   Skill strategy  personalization\n",
       "Models                                                          \n",
       "tcn-gru  0.956  0.0309  0.0161  0.6575   fedavg            False"
      ]
     },
     "execution_count": 6,
     "metadata": {},
     "output_type": "execute_result"
    }
   ],
   "source": [
    "index_cols = ['Models', 'output_dim', 'freq', 't_0', 'strategy', 'personalization']\n",
    "df_fl = concatenate_results(results_dir=results_dir,\n",
    "                            results=fl_sims,\n",
    "                            index_cols=index_cols)\n",
    "df_fl[['R^2', 'RMSE', 'MAE', 'Skill', 'Models', 'strategy', 'personalization']].round(4).set_index('Models')"
   ]
  },
  {
   "cell_type": "markdown",
   "id": "560e4a4e",
   "metadata": {},
   "source": [
    "Centralized simulation analysis - N datasets : 1 model"
   ]
  },
  {
   "cell_type": "code",
   "execution_count": 13,
   "id": "602f9963",
   "metadata": {},
   "outputs": [
    {
     "name": "stdout",
     "output_type": "stream",
     "text": [
      "1\n",
      "Index(['R^2', 'RMSE', 'MAE', 'Skill'], dtype='object')\n"
     ]
    },
    {
     "data": {
      "text/html": [
       "<div>\n",
       "<style scoped>\n",
       "    .dataframe tbody tr th:only-of-type {\n",
       "        vertical-align: middle;\n",
       "    }\n",
       "\n",
       "    .dataframe tbody tr th {\n",
       "        vertical-align: top;\n",
       "    }\n",
       "\n",
       "    .dataframe thead th {\n",
       "        text-align: right;\n",
       "    }\n",
       "</style>\n",
       "<table border=\"1\" class=\"dataframe\">\n",
       "  <thead>\n",
       "    <tr style=\"text-align: right;\">\n",
       "      <th></th>\n",
       "      <th>R^2</th>\n",
       "      <th>RMSE</th>\n",
       "      <th>MAE</th>\n",
       "      <th>Skill</th>\n",
       "      <th>output_dim</th>\n",
       "      <th>key</th>\n",
       "    </tr>\n",
       "    <tr>\n",
       "      <th>Models</th>\n",
       "      <th></th>\n",
       "      <th></th>\n",
       "      <th></th>\n",
       "      <th></th>\n",
       "      <th></th>\n",
       "      <th></th>\n",
       "    </tr>\n",
       "  </thead>\n",
       "  <tbody>\n",
       "    <tr>\n",
       "      <th>lstm</th>\n",
       "      <td>0.7856</td>\n",
       "      <td>0.9686</td>\n",
       "      <td>0.7459</td>\n",
       "      <td>0.5394</td>\n",
       "      <td>12</td>\n",
       "      <td>00198.csv</td>\n",
       "    </tr>\n",
       "  </tbody>\n",
       "</table>\n",
       "</div>"
      ],
      "text/plain": [
       "           R^2    RMSE     MAE   Skill  output_dim        key\n",
       "Models                                                       \n",
       "lstm    0.7856  0.9686  0.7459  0.5394          12  00198.csv"
      ]
     },
     "execution_count": 13,
     "metadata": {},
     "output_type": "execute_result"
    }
   ],
   "source": [
    "index_cols = ['Models', 'output_dim', 'freq', 't_0', 'key']\n",
    "df_cl = concatenate_results(results_dir=results_dir,\n",
    "                             get_skill=False,\n",
    "                             #pers=pers,\n",
    "                             results=cl_sims,\n",
    "                             index_cols=index_cols)\n",
    "df_cl[['R^2', 'RMSE', 'MAE', 'Skill', 'Models', 'output_dim', 'key']].round(4).set_index('Models')"
   ]
  },
  {
   "cell_type": "markdown",
   "id": "2fa6868f",
   "metadata": {},
   "source": [
    "Individual simulation analysis"
   ]
  },
  {
   "cell_type": "code",
   "execution_count": null,
   "id": "1be93413",
   "metadata": {},
   "outputs": [],
   "source": [
    "model = 'tcn-gru'\n",
    "output_dim = 48\n",
    "freq = '1h'\n",
    "strategy = 'fedavg'\n",
    "gti = '_pers'\n",
    "\n",
    "fontsize = 12\n",
    "\n",
    "sim = f'd-{data}_m-{model}_out-{output_dim}_freq-{freq}.pkl'\n",
    "cl_sim = f'cl_d-{data}_m-{model}_out-48_freq-{freq}.pkl'\n",
    "fl_sim = f'fl_a-{strategy}_d-{data}_m-{model}_out-{output_dim}_freq-{freq}{gti}.pkl'"
   ]
  },
  {
   "cell_type": "code",
   "execution_count": 29,
   "id": "7d0616e5",
   "metadata": {},
   "outputs": [],
   "source": [
    "sim_results = read_sim(results_dir, sim)\n",
    "cl_results = read_sim(results_dir, cl_sim)\n",
    "fl_results = read_sim(results_dir, fl_sim)"
   ]
  },
  {
   "cell_type": "code",
   "execution_count": 8,
   "id": "022449fe",
   "metadata": {},
   "outputs": [
    {
     "ename": "TypeError",
     "evalue": "'NoneType' object is not subscriptable",
     "output_type": "error",
     "traceback": [
      "\u001b[0;31m---------------------------------------------------------------------------\u001b[0m",
      "\u001b[0;31mTypeError\u001b[0m                                 Traceback (most recent call last)",
      "\u001b[0;32m/tmp/ipykernel_2783599/4096686183.py\u001b[0m in \u001b[0;36m<module>\u001b[0;34m\u001b[0m\n\u001b[0;32m----> 1\u001b[0;31m \u001b[0msim_results\u001b[0m\u001b[0;34m[\u001b[0m\u001b[0;34m'evaluation'\u001b[0m\u001b[0;34m]\u001b[0m\u001b[0;34m[\u001b[0m\u001b[0;34m[\u001b[0m\u001b[0;34m'R^2'\u001b[0m\u001b[0;34m,\u001b[0m \u001b[0;34m'RMSE'\u001b[0m\u001b[0;34m,\u001b[0m \u001b[0;34m'MAE'\u001b[0m\u001b[0;34m,\u001b[0m \u001b[0;34m'Skill'\u001b[0m\u001b[0;34m,\u001b[0m \u001b[0;34m'key'\u001b[0m\u001b[0;34m]\u001b[0m\u001b[0;34m]\u001b[0m\u001b[0;34m.\u001b[0m\u001b[0mround\u001b[0m\u001b[0;34m(\u001b[0m\u001b[0;36m4\u001b[0m\u001b[0;34m)\u001b[0m\u001b[0;34m.\u001b[0m\u001b[0mset_index\u001b[0m\u001b[0;34m(\u001b[0m\u001b[0;34m'key'\u001b[0m\u001b[0;34m)\u001b[0m\u001b[0;34m\u001b[0m\u001b[0;34m\u001b[0m\u001b[0m\n\u001b[0m",
      "\u001b[0;31mTypeError\u001b[0m: 'NoneType' object is not subscriptable"
     ]
    }
   ],
   "source": [
    "sim_results['evaluation'][['R^2', 'RMSE', 'MAE', 'Skill', 'key']].round(4).set_index('key')"
   ]
  },
  {
   "cell_type": "code",
   "execution_count": 9,
   "id": "0cf9c8f3",
   "metadata": {},
   "outputs": [
    {
     "data": {
      "text/html": [
       "<div>\n",
       "<style scoped>\n",
       "    .dataframe tbody tr th:only-of-type {\n",
       "        vertical-align: middle;\n",
       "    }\n",
       "\n",
       "    .dataframe tbody tr th {\n",
       "        vertical-align: top;\n",
       "    }\n",
       "\n",
       "    .dataframe thead th {\n",
       "        text-align: right;\n",
       "    }\n",
       "</style>\n",
       "<table border=\"1\" class=\"dataframe\">\n",
       "  <thead>\n",
       "    <tr style=\"text-align: right;\">\n",
       "      <th></th>\n",
       "      <th>R^2</th>\n",
       "      <th>RMSE</th>\n",
       "      <th>MAE</th>\n",
       "      <th>Skill</th>\n",
       "    </tr>\n",
       "    <tr>\n",
       "      <th>key</th>\n",
       "      <th></th>\n",
       "      <th></th>\n",
       "      <th></th>\n",
       "      <th></th>\n",
       "    </tr>\n",
       "  </thead>\n",
       "  <tbody>\n",
       "    <tr>\n",
       "      <th>station00.csv</th>\n",
       "      <td>0.9320</td>\n",
       "      <td>0.0597</td>\n",
       "      <td>0.0239</td>\n",
       "      <td>0.5601</td>\n",
       "    </tr>\n",
       "    <tr>\n",
       "      <th>station01.csv</th>\n",
       "      <td>0.9709</td>\n",
       "      <td>0.0519</td>\n",
       "      <td>0.0303</td>\n",
       "      <td>0.6646</td>\n",
       "    </tr>\n",
       "    <tr>\n",
       "      <th>station02.csv</th>\n",
       "      <td>0.9773</td>\n",
       "      <td>0.0388</td>\n",
       "      <td>0.0228</td>\n",
       "      <td>0.7357</td>\n",
       "    </tr>\n",
       "    <tr>\n",
       "      <th>station04.csv</th>\n",
       "      <td>0.9668</td>\n",
       "      <td>0.0700</td>\n",
       "      <td>0.0412</td>\n",
       "      <td>0.7133</td>\n",
       "    </tr>\n",
       "    <tr>\n",
       "      <th>station06.csv</th>\n",
       "      <td>0.9588</td>\n",
       "      <td>0.0431</td>\n",
       "      <td>0.0247</td>\n",
       "      <td>0.6057</td>\n",
       "    </tr>\n",
       "    <tr>\n",
       "      <th>station07.csv</th>\n",
       "      <td>0.9625</td>\n",
       "      <td>0.0478</td>\n",
       "      <td>0.0242</td>\n",
       "      <td>0.6704</td>\n",
       "    </tr>\n",
       "    <tr>\n",
       "      <th>station08.csv</th>\n",
       "      <td>0.9834</td>\n",
       "      <td>0.0324</td>\n",
       "      <td>0.0192</td>\n",
       "      <td>0.7807</td>\n",
       "    </tr>\n",
       "  </tbody>\n",
       "</table>\n",
       "</div>"
      ],
      "text/plain": [
       "                  R^2    RMSE     MAE   Skill\n",
       "key                                          \n",
       "station00.csv  0.9320  0.0597  0.0239  0.5601\n",
       "station01.csv  0.9709  0.0519  0.0303  0.6646\n",
       "station02.csv  0.9773  0.0388  0.0228  0.7357\n",
       "station04.csv  0.9668  0.0700  0.0412  0.7133\n",
       "station06.csv  0.9588  0.0431  0.0247  0.6057\n",
       "station07.csv  0.9625  0.0478  0.0242  0.6704\n",
       "station08.csv  0.9834  0.0324  0.0192  0.7807"
      ]
     },
     "execution_count": 9,
     "metadata": {},
     "output_type": "execute_result"
    }
   ],
   "source": [
    "fl_results['evaluation'][['R^2', 'RMSE', 'MAE', 'Skill', 'key']].round(4).set_index('key')"
   ]
  },
  {
   "cell_type": "code",
   "execution_count": 12,
   "id": "0a0de59a",
   "metadata": {},
   "outputs": [
    {
     "ename": "TypeError",
     "evalue": "'NoneType' object is not subscriptable",
     "output_type": "error",
     "traceback": [
      "\u001b[0;31m---------------------------------------------------------------------------\u001b[0m",
      "\u001b[0;31mTypeError\u001b[0m                                 Traceback (most recent call last)",
      "\u001b[0;32m/tmp/ipykernel_267608/2064479857.py\u001b[0m in \u001b[0;36m<module>\u001b[0;34m\u001b[0m\n\u001b[1;32m      1\u001b[0m \u001b[0mfig\u001b[0m \u001b[0;34m=\u001b[0m \u001b[0mplt\u001b[0m\u001b[0;34m.\u001b[0m\u001b[0mfigure\u001b[0m\u001b[0;34m(\u001b[0m\u001b[0mfigsize\u001b[0m\u001b[0;34m=\u001b[0m\u001b[0;34m(\u001b[0m\u001b[0;36m10\u001b[0m\u001b[0;34m,\u001b[0m \u001b[0;36m5\u001b[0m\u001b[0;34m)\u001b[0m\u001b[0;34m)\u001b[0m\u001b[0;34m\u001b[0m\u001b[0;34m\u001b[0m\u001b[0m\n\u001b[1;32m      2\u001b[0m \u001b[0;34m\u001b[0m\u001b[0m\n\u001b[0;32m----> 3\u001b[0;31m \u001b[0mplt\u001b[0m\u001b[0;34m.\u001b[0m\u001b[0mplot\u001b[0m\u001b[0;34m(\u001b[0m\u001b[0mfl_results\u001b[0m\u001b[0;34m[\u001b[0m\u001b[0;34m'history'\u001b[0m\u001b[0;34m]\u001b[0m\u001b[0;34m[\u001b[0m\u001b[0;34m'metrics_aggregated'\u001b[0m\u001b[0;34m]\u001b[0m\u001b[0;34m[\u001b[0m\u001b[0;34m'train_loss'\u001b[0m\u001b[0;34m]\u001b[0m\u001b[0;34m,\u001b[0m \u001b[0mlabel\u001b[0m\u001b[0;34m=\u001b[0m\u001b[0;34m'train_loss'\u001b[0m\u001b[0;34m)\u001b[0m\u001b[0;34m\u001b[0m\u001b[0;34m\u001b[0m\u001b[0m\n\u001b[0m\u001b[1;32m      4\u001b[0m \u001b[0mplt\u001b[0m\u001b[0;34m.\u001b[0m\u001b[0mplot\u001b[0m\u001b[0;34m(\u001b[0m\u001b[0mfl_results\u001b[0m\u001b[0;34m[\u001b[0m\u001b[0;34m'history'\u001b[0m\u001b[0;34m]\u001b[0m\u001b[0;34m[\u001b[0m\u001b[0;34m'metrics_aggregated'\u001b[0m\u001b[0;34m]\u001b[0m\u001b[0;34m[\u001b[0m\u001b[0;34m'eval_loss'\u001b[0m\u001b[0;34m]\u001b[0m\u001b[0;34m,\u001b[0m \u001b[0mlabel\u001b[0m\u001b[0;34m=\u001b[0m\u001b[0;34m'val_loss'\u001b[0m\u001b[0;34m)\u001b[0m\u001b[0;34m\u001b[0m\u001b[0;34m\u001b[0m\u001b[0m\n\u001b[1;32m      5\u001b[0m \u001b[0mplt\u001b[0m\u001b[0;34m.\u001b[0m\u001b[0mxlabel\u001b[0m\u001b[0;34m(\u001b[0m\u001b[0;34m'Epochs'\u001b[0m\u001b[0;34m,\u001b[0m \u001b[0msize\u001b[0m\u001b[0;34m=\u001b[0m\u001b[0mfontsize\u001b[0m\u001b[0;34m)\u001b[0m\u001b[0;34m\u001b[0m\u001b[0;34m\u001b[0m\u001b[0m\n",
      "\u001b[0;31mTypeError\u001b[0m: 'NoneType' object is not subscriptable"
     ]
    },
    {
     "data": {
      "text/plain": [
       "<Figure size 720x360 with 0 Axes>"
      ]
     },
     "metadata": {},
     "output_type": "display_data"
    }
   ],
   "source": [
    "fig = plt.figure(figsize=(10, 5))\n",
    "\n",
    "plt.plot(fl_results['history']['metrics_aggregated']['train_loss'], label='train_loss')\n",
    "plt.plot(fl_results['history']['metrics_aggregated']['eval_loss'], label='val_loss')\n",
    "plt.xlabel('Epochs', size=fontsize)\n",
    "plt.ylabel('Loss', size=fontsize)\n",
    "plt.xticks(fontsize=fontsize)\n",
    "plt.yticks(fontsize=fontsize)\n",
    "plt.legend(fontsize=fontsize)\n",
    "plt.show()"
   ]
  },
  {
   "cell_type": "code",
   "execution_count": 42,
   "id": "721f3d4c",
   "metadata": {},
   "outputs": [
    {
     "data": {
      "text/html": [
       "<div>\n",
       "<style scoped>\n",
       "    .dataframe tbody tr th:only-of-type {\n",
       "        vertical-align: middle;\n",
       "    }\n",
       "\n",
       "    .dataframe tbody tr th {\n",
       "        vertical-align: top;\n",
       "    }\n",
       "\n",
       "    .dataframe thead th {\n",
       "        text-align: right;\n",
       "    }\n",
       "</style>\n",
       "<table border=\"1\" class=\"dataframe\">\n",
       "  <thead>\n",
       "    <tr style=\"text-align: right;\">\n",
       "      <th></th>\n",
       "      <th>R^2</th>\n",
       "      <th>RMSE</th>\n",
       "      <th>MAE</th>\n",
       "      <th>Skill</th>\n",
       "    </tr>\n",
       "    <tr>\n",
       "      <th>key</th>\n",
       "      <th></th>\n",
       "      <th></th>\n",
       "      <th></th>\n",
       "      <th></th>\n",
       "    </tr>\n",
       "  </thead>\n",
       "  <tbody>\n",
       "    <tr>\n",
       "      <th>pvpark_5.csv</th>\n",
       "      <td>0.9108</td>\n",
       "      <td>0.0422</td>\n",
       "      <td>0.0246</td>\n",
       "      <td>0.4888</td>\n",
       "    </tr>\n",
       "    <tr>\n",
       "      <th>pvpark_1.csv</th>\n",
       "      <td>0.8872</td>\n",
       "      <td>0.0498</td>\n",
       "      <td>0.0287</td>\n",
       "      <td>0.3939</td>\n",
       "    </tr>\n",
       "    <tr>\n",
       "      <th>pvpark_3.csv</th>\n",
       "      <td>0.8855</td>\n",
       "      <td>0.0526</td>\n",
       "      <td>0.0307</td>\n",
       "      <td>0.4968</td>\n",
       "    </tr>\n",
       "    <tr>\n",
       "      <th>pvpark_2.csv</th>\n",
       "      <td>0.9125</td>\n",
       "      <td>0.0428</td>\n",
       "      <td>0.0254</td>\n",
       "      <td>0.4848</td>\n",
       "    </tr>\n",
       "    <tr>\n",
       "      <th>pvpark_4.csv</th>\n",
       "      <td>0.9121</td>\n",
       "      <td>0.0386</td>\n",
       "      <td>0.0228</td>\n",
       "      <td>0.4702</td>\n",
       "    </tr>\n",
       "  </tbody>\n",
       "</table>\n",
       "</div>"
      ],
      "text/plain": [
       "                 R^2    RMSE     MAE   Skill\n",
       "key                                         \n",
       "pvpark_5.csv  0.9108  0.0422  0.0246  0.4888\n",
       "pvpark_1.csv  0.8872  0.0498  0.0287  0.3939\n",
       "pvpark_3.csv  0.8855  0.0526  0.0307  0.4968\n",
       "pvpark_2.csv  0.9125  0.0428  0.0254  0.4848\n",
       "pvpark_4.csv  0.9121  0.0386  0.0228  0.4702"
      ]
     },
     "execution_count": 42,
     "metadata": {},
     "output_type": "execute_result"
    }
   ],
   "source": [
    "cl_results['evaluation'][['R^2', 'RMSE', 'MAE', 'Skill', 'key']].round(4).set_index('key')"
   ]
  },
  {
   "cell_type": "code",
   "execution_count": 21,
   "id": "0a9148e4",
   "metadata": {},
   "outputs": [
    {
     "data": {
      "image/png": "[encoded data removed]",
      "text/plain": [
       "<Figure size 720x360 with 1 Axes>"
      ]
     },
     "metadata": {
      "needs_background": "light"
     },
     "output_type": "display_data"
    }
   ],
   "source": [
    "fig = plt.figure(figsize=(10, 5))\n",
    "\n",
    "plt.plot(cl_results['history']['loss'], label='train loss')\n",
    "plt.plot(cl_results['history']['val_loss'], label='val loss')\n",
    "plt.xlabel('Epochs', size=fontsize)\n",
    "plt.ylabel('Loss', size=fontsize)\n",
    "plt.xticks(fontsize=fontsize)\n",
    "plt.yticks(fontsize=fontsize)\n",
    "plt.legend(fontsize=fontsize)\n",
    "plt.show()"
   ]
  },
  {
   "cell_type": "code",
   "execution_count": null,
   "id": "dc187c86",
   "metadata": {},
   "outputs": [],
   "source": []
  }
 ],
 "metadata": {
  "kernelspec": {
   "display_name": "frcst (3.10.12)",
   "language": "python",
   "name": "python3"
  },
  "language_info": {
   "codemirror_mode": {
    "name": "ipython",
    "version": 3
   },
   "file_extension": ".py",
   "mimetype": "text/x-python",
   "name": "python",
   "nbconvert_exporter": "python",
   "pygments_lexer": "ipython3",
   "version": "3.10.12"
  }
 },
 "nbformat": 4,
 "nbformat_minor": 5
}
