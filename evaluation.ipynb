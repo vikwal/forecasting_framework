{
 "cells": [
  {
   "cell_type": "markdown",
   "id": "0ad07925",
   "metadata": {},
   "source": [
    "# Evaluation Notebook"
   ]
  },
  {
   "cell_type": "code",
   "execution_count": 24,
   "id": "fbb93ad1",
   "metadata": {},
   "outputs": [],
   "source": [
    "import os\n",
    "import pickle\n",
    "import pandas as pd\n",
    "import tensorflow as tf\n",
    "from pympler import asizeof\n",
    "import matplotlib.pyplot as plt\n",
    "\n",
    "from utils import tools"
   ]
  },
  {
   "cell_type": "code",
   "execution_count": 25,
   "id": "9470caca",
   "metadata": {},
   "outputs": [],
   "source": [
    "tf.config.experimental.set_visible_devices([], 'GPU')"
   ]
  },
  {
   "cell_type": "code",
   "execution_count": 42,
   "id": "4c3fe020",
   "metadata": {},
   "outputs": [],
   "source": [
    "data = 'pvod'\n",
    "\n",
    "config = tools.load_config('config.yaml')\n",
    "results_dir = config['eval']['results_path']\n",
    "results_dir = os.path.join(results_dir, data)\n",
    "result_files = os.listdir(results_dir)\n",
    "# pickle files where training was performed on single dataset sequentially\n",
    "sims = [f for f in result_files if (f.endswith('.pkl')) & ('cl' not in f) & ('fl' not in f)]\n",
    "# pickle files where training was performed on concatenated datasets (centralized learning)\n",
    "cl_sims = [f for f in result_files if 'cl' in f]\n",
    "# pickle files for federated learning simulations\n",
    "fl_sims = [f for f in result_files if 'fl' in f]\n",
    "persistence_file = [f for f in result_files if 'persistence' in f][0]"
   ]
  },
  {
   "cell_type": "code",
   "execution_count": 43,
   "id": "c7787be0",
   "metadata": {},
   "outputs": [],
   "source": [
    "def concatenate_results(results_dir: str,\n",
    "                        results: list,\n",
    "                        index_cols: list,\n",
    "                        get_skill: bool = False,\n",
    "                        pers: pd.DataFrame = pd.DataFrame(),\n",
    "                        sort_skill: bool = False) -> pd.DataFrame:\n",
    "    indices = {}\n",
    "    metrics = []\n",
    "    if not results:\n",
    "        print('No data found.')\n",
    "        return None\n",
    "    # initialize the dict list\n",
    "    for col in index_cols:\n",
    "        indices[col] = []\n",
    "    for file in results:  # Iterate through all result files\n",
    "        # Load the data\n",
    "        with open(os.path.join(results_dir, file), 'rb') as f:\n",
    "            pkl = pickle.load(f)\n",
    "        df = pkl['evaluation']\n",
    "        df.reset_index(inplace=True)\n",
    "        if get_skill:\n",
    "            df= pd.merge(df, pers[['RMSE', 'key', 'output_dim', 'freq', '']],\n",
    "               on=['key', 'output_dim', 'freq'],\n",
    "               how='left',\n",
    "               suffixes=('', '_p'))\n",
    "            df['Skill'] = 1 - df.RMSE / df.RMSE_p\n",
    "            df.drop('RMSE_p', axis=1, inplace=True)\n",
    "        for col in index_cols:\n",
    "            indices[col].append(df[col].iloc[0])\n",
    "        df.drop(index_cols, axis=1, inplace=True)\n",
    "        df.drop('key', axis=1, inplace=True)\n",
    "        metric = df.mean(axis=0)\n",
    "        metrics.append(metric)\n",
    "    df = pd.DataFrame(metrics, columns=metric.index)\n",
    "    df_index = pd.DataFrame(indices)\n",
    "    df = pd.concat([df, df_index], axis=1)\n",
    "    df.sort_values(['output_dim', 'freq', 'Models'], inplace=True)\n",
    "    if sort_skill:\n",
    "        df.sort_values(['Skill'], ascending=False, inplace=True)\n",
    "    return df\n",
    "\n",
    "def read_sim(results_dir, sim):\n",
    "    try:\n",
    "        with open(os.path.join(results_dir, sim), 'rb') as f:\n",
    "            sim_results = pickle.load(f)\n",
    "    except:\n",
    "        sim_results = None\n",
    "    return sim_results"
   ]
  },
  {
   "cell_type": "code",
   "execution_count": 44,
   "id": "dd0440eb",
   "metadata": {},
   "outputs": [],
   "source": [
    "pers = pd.read_csv(os.path.join(results_dir, persistence_file))"
   ]
  },
  {
   "cell_type": "markdown",
   "id": "a8c2891f",
   "metadata": {},
   "source": [
    "Local simulation analysis - 1 dataset : 1 model "
   ]
  },
  {
   "cell_type": "code",
   "execution_count": 45,
   "id": "b9c306e4",
   "metadata": {},
   "outputs": [
    {
     "data": {
      "text/html": [
       "<div>\n",
       "<style scoped>\n",
       "    .dataframe tbody tr th:only-of-type {\n",
       "        vertical-align: middle;\n",
       "    }\n",
       "\n",
       "    .dataframe tbody tr th {\n",
       "        vertical-align: top;\n",
       "    }\n",
       "\n",
       "    .dataframe thead th {\n",
       "        text-align: right;\n",
       "    }\n",
       "</style>\n",
       "<table border=\"1\" class=\"dataframe\">\n",
       "  <thead>\n",
       "    <tr style=\"text-align: right;\">\n",
       "      <th></th>\n",
       "      <th>R^2</th>\n",
       "      <th>RMSE</th>\n",
       "      <th>MAE</th>\n",
       "      <th>Skill</th>\n",
       "    </tr>\n",
       "    <tr>\n",
       "      <th>Models</th>\n",
       "      <th></th>\n",
       "      <th></th>\n",
       "      <th></th>\n",
       "      <th></th>\n",
       "    </tr>\n",
       "  </thead>\n",
       "  <tbody>\n",
       "    <tr>\n",
       "      <th>tcn-gru</th>\n",
       "      <td>0.8103</td>\n",
       "      <td>0.117</td>\n",
       "      <td>0.0765</td>\n",
       "      <td>0.241</td>\n",
       "    </tr>\n",
       "  </tbody>\n",
       "</table>\n",
       "</div>"
      ],
      "text/plain": [
       "            R^2   RMSE     MAE  Skill\n",
       "Models                               \n",
       "tcn-gru  0.8103  0.117  0.0765  0.241"
      ]
     },
     "execution_count": 45,
     "metadata": {},
     "output_type": "execute_result"
    }
   ],
   "source": [
    "index_cols = ['Models', 'output_dim', 'freq', 't_0']\n",
    "df_sep = concatenate_results(results_dir=results_dir, results=sims, index_cols=index_cols)\n",
    "df_sep[['R^2', 'RMSE', 'MAE', 'Skill', 'Models']].round(4).set_index('Models')"
   ]
  },
  {
   "cell_type": "markdown",
   "id": "49b8728e",
   "metadata": {},
   "source": [
    "Federated simulation analysis - N datasets : 1 model"
   ]
  },
  {
   "cell_type": "code",
   "execution_count": 46,
   "id": "4d37c81e",
   "metadata": {},
   "outputs": [
    {
     "data": {
      "text/html": [
       "<div>\n",
       "<style scoped>\n",
       "    .dataframe tbody tr th:only-of-type {\n",
       "        vertical-align: middle;\n",
       "    }\n",
       "\n",
       "    .dataframe tbody tr th {\n",
       "        vertical-align: top;\n",
       "    }\n",
       "\n",
       "    .dataframe thead th {\n",
       "        text-align: right;\n",
       "    }\n",
       "</style>\n",
       "<table border=\"1\" class=\"dataframe\">\n",
       "  <thead>\n",
       "    <tr style=\"text-align: right;\">\n",
       "      <th></th>\n",
       "      <th>R^2</th>\n",
       "      <th>RMSE</th>\n",
       "      <th>MAE</th>\n",
       "      <th>Skill</th>\n",
       "      <th>strategy</th>\n",
       "      <th>gti</th>\n",
       "      <th>personalization</th>\n",
       "    </tr>\n",
       "    <tr>\n",
       "      <th>Models</th>\n",
       "      <th></th>\n",
       "      <th></th>\n",
       "      <th></th>\n",
       "      <th></th>\n",
       "      <th></th>\n",
       "      <th></th>\n",
       "      <th></th>\n",
       "    </tr>\n",
       "  </thead>\n",
       "  <tbody>\n",
       "    <tr>\n",
       "      <th>tcn-gru</th>\n",
       "      <td>0.9010</td>\n",
       "      <td>0.0820</td>\n",
       "      <td>0.0477</td>\n",
       "      <td>0.4922</td>\n",
       "      <td>fedavg</td>\n",
       "      <td>True</td>\n",
       "      <td>False</td>\n",
       "    </tr>\n",
       "    <tr>\n",
       "      <th>tcn-gru</th>\n",
       "      <td>0.8743</td>\n",
       "      <td>0.0924</td>\n",
       "      <td>0.0529</td>\n",
       "      <td>0.4334</td>\n",
       "      <td>fedavg</td>\n",
       "      <td>False</td>\n",
       "      <td>False</td>\n",
       "    </tr>\n",
       "    <tr>\n",
       "      <th>tcn-gru</th>\n",
       "      <td>0.8464</td>\n",
       "      <td>0.1052</td>\n",
       "      <td>0.0602</td>\n",
       "      <td>0.3216</td>\n",
       "      <td>fedavg</td>\n",
       "      <td>False</td>\n",
       "      <td>True</td>\n",
       "    </tr>\n",
       "  </tbody>\n",
       "</table>\n",
       "</div>"
      ],
      "text/plain": [
       "            R^2    RMSE     MAE   Skill strategy    gti  personalization\n",
       "Models                                                                  \n",
       "tcn-gru  0.9010  0.0820  0.0477  0.4922   fedavg   True            False\n",
       "tcn-gru  0.8743  0.0924  0.0529  0.4334   fedavg  False            False\n",
       "tcn-gru  0.8464  0.1052  0.0602  0.3216   fedavg  False             True"
      ]
     },
     "execution_count": 46,
     "metadata": {},
     "output_type": "execute_result"
    }
   ],
   "source": [
    "index_cols = ['Models', 'output_dim', 'freq', 't_0', 'strategy', 'gti', 'personalization']\n",
    "df_fl = concatenate_results(results_dir=results_dir,\n",
    "                            results=fl_sims,\n",
    "                            index_cols=index_cols)\n",
    "df_fl[['R^2', 'RMSE', 'MAE', 'Skill', 'Models', 'strategy', 'gti', 'personalization']].round(4).set_index('Models')"
   ]
  },
  {
   "cell_type": "markdown",
   "id": "560e4a4e",
   "metadata": {},
   "source": [
    "Centralized simulation analysis - N datasets : 1 model"
   ]
  },
  {
   "cell_type": "code",
   "execution_count": 36,
   "id": "602f9963",
   "metadata": {},
   "outputs": [
    {
     "ename": "TypeError",
     "evalue": "concatenate_results() missing 1 required positional argument: 'index_cols'",
     "output_type": "error",
     "traceback": [
      "\u001b[0;31m---------------------------------------------------------------------------\u001b[0m",
      "\u001b[0;31mTypeError\u001b[0m                                 Traceback (most recent call last)",
      "\u001b[0;32m/tmp/ipykernel_4046804/3756347454.py\u001b[0m in \u001b[0;36m<module>\u001b[0;34m\u001b[0m\n\u001b[0;32m----> 1\u001b[0;31m df_cl = concatenate_results(results_dir=results_dir,\n\u001b[0m\u001b[1;32m      2\u001b[0m                              \u001b[0mget_skill\u001b[0m\u001b[0;34m=\u001b[0m\u001b[0;32mTrue\u001b[0m\u001b[0;34m,\u001b[0m\u001b[0;34m\u001b[0m\u001b[0;34m\u001b[0m\u001b[0m\n\u001b[1;32m      3\u001b[0m                              \u001b[0mpers\u001b[0m\u001b[0;34m=\u001b[0m\u001b[0mpers\u001b[0m\u001b[0;34m,\u001b[0m\u001b[0;34m\u001b[0m\u001b[0;34m\u001b[0m\u001b[0m\n\u001b[1;32m      4\u001b[0m                              results=cl_sims)\n\u001b[1;32m      5\u001b[0m \u001b[0mdf_cl\u001b[0m\u001b[0;34m\u001b[0m\u001b[0;34m\u001b[0m\u001b[0m\n",
      "\u001b[0;31mTypeError\u001b[0m: concatenate_results() missing 1 required positional argument: 'index_cols'"
     ]
    }
   ],
   "source": [
    "df_cl = concatenate_results(results_dir=results_dir,\n",
    "                             get_skill=True,\n",
    "                             pers=pers,\n",
    "                             results=cl_sims)\n",
    "df_cl"
   ]
  },
  {
   "cell_type": "markdown",
   "id": "2fa6868f",
   "metadata": {},
   "source": [
    "Individual simulation analysis"
   ]
  },
  {
   "cell_type": "code",
   "execution_count": 51,
   "id": "1be93413",
   "metadata": {},
   "outputs": [],
   "source": [
    "model = 'tcn-gru'\n",
    "output_dim = 48\n",
    "freq = '1h'\n",
    "strategy = 'fedavg'\n",
    "gti = ''\n",
    "\n",
    "sim = f'd-{data}_m-{model}_out-{output_dim}_freq-{freq}.pkl'\n",
    "cl_sim = f'cl_d-{data}_m-{model}_out-48_freq-{freq}{gti}.pkl'\n",
    "fl_sim = f'fl_a-{strategy}_d-{data}_m-{model}_out-{output_dim}_freq-{freq}{gti}.pkl'"
   ]
  },
  {
   "cell_type": "code",
   "execution_count": 52,
   "id": "7d0616e5",
   "metadata": {},
   "outputs": [],
   "source": [
    "sim_results = read_sim(results_dir, sim)\n",
    "cl_results = read_sim(results_dir, cl_sim)\n",
    "fl_results = read_sim(results_dir, fl_sim)"
   ]
  },
  {
   "cell_type": "code",
   "execution_count": 49,
   "id": "022449fe",
   "metadata": {},
   "outputs": [
    {
     "data": {
      "text/html": [
       "<div>\n",
       "<style scoped>\n",
       "    .dataframe tbody tr th:only-of-type {\n",
       "        vertical-align: middle;\n",
       "    }\n",
       "\n",
       "    .dataframe tbody tr th {\n",
       "        vertical-align: top;\n",
       "    }\n",
       "\n",
       "    .dataframe thead th {\n",
       "        text-align: right;\n",
       "    }\n",
       "</style>\n",
       "<table border=\"1\" class=\"dataframe\">\n",
       "  <thead>\n",
       "    <tr style=\"text-align: right;\">\n",
       "      <th></th>\n",
       "      <th>R^2</th>\n",
       "      <th>RMSE</th>\n",
       "      <th>MAE</th>\n",
       "      <th>Skill</th>\n",
       "    </tr>\n",
       "    <tr>\n",
       "      <th>key</th>\n",
       "      <th></th>\n",
       "      <th></th>\n",
       "      <th></th>\n",
       "      <th></th>\n",
       "    </tr>\n",
       "  </thead>\n",
       "  <tbody>\n",
       "    <tr>\n",
       "      <th>station00.csv</th>\n",
       "      <td>0.8427</td>\n",
       "      <td>0.0909</td>\n",
       "      <td>0.0526</td>\n",
       "      <td>0.3308</td>\n",
       "    </tr>\n",
       "    <tr>\n",
       "      <th>station01.csv</th>\n",
       "      <td>0.8674</td>\n",
       "      <td>0.1106</td>\n",
       "      <td>0.0688</td>\n",
       "      <td>0.2845</td>\n",
       "    </tr>\n",
       "    <tr>\n",
       "      <th>station02.csv</th>\n",
       "      <td>0.8407</td>\n",
       "      <td>0.1026</td>\n",
       "      <td>0.0625</td>\n",
       "      <td>0.3002</td>\n",
       "    </tr>\n",
       "    <tr>\n",
       "      <th>station04.csv</th>\n",
       "      <td>0.7422</td>\n",
       "      <td>0.1950</td>\n",
       "      <td>0.1382</td>\n",
       "      <td>0.2011</td>\n",
       "    </tr>\n",
       "    <tr>\n",
       "      <th>station06.csv</th>\n",
       "      <td>0.7557</td>\n",
       "      <td>0.1050</td>\n",
       "      <td>0.0687</td>\n",
       "      <td>0.0398</td>\n",
       "    </tr>\n",
       "    <tr>\n",
       "      <th>station07.csv</th>\n",
       "      <td>0.7707</td>\n",
       "      <td>0.1181</td>\n",
       "      <td>0.0765</td>\n",
       "      <td>0.1849</td>\n",
       "    </tr>\n",
       "    <tr>\n",
       "      <th>station08.csv</th>\n",
       "      <td>0.8524</td>\n",
       "      <td>0.0968</td>\n",
       "      <td>0.0683</td>\n",
       "      <td>0.3455</td>\n",
       "    </tr>\n",
       "  </tbody>\n",
       "</table>\n",
       "</div>"
      ],
      "text/plain": [
       "                  R^2    RMSE     MAE   Skill\n",
       "key                                          \n",
       "station00.csv  0.8427  0.0909  0.0526  0.3308\n",
       "station01.csv  0.8674  0.1106  0.0688  0.2845\n",
       "station02.csv  0.8407  0.1026  0.0625  0.3002\n",
       "station04.csv  0.7422  0.1950  0.1382  0.2011\n",
       "station06.csv  0.7557  0.1050  0.0687  0.0398\n",
       "station07.csv  0.7707  0.1181  0.0765  0.1849\n",
       "station08.csv  0.8524  0.0968  0.0683  0.3455"
      ]
     },
     "execution_count": 49,
     "metadata": {},
     "output_type": "execute_result"
    }
   ],
   "source": [
    "sim_results['evaluation'][['R^2', 'RMSE', 'MAE', 'Skill', 'key']].round(4).set_index('key')"
   ]
  },
  {
   "cell_type": "code",
   "execution_count": 53,
   "id": "0cf9c8f3",
   "metadata": {},
   "outputs": [
    {
     "data": {
      "text/html": [
       "<div>\n",
       "<style scoped>\n",
       "    .dataframe tbody tr th:only-of-type {\n",
       "        vertical-align: middle;\n",
       "    }\n",
       "\n",
       "    .dataframe tbody tr th {\n",
       "        vertical-align: top;\n",
       "    }\n",
       "\n",
       "    .dataframe thead th {\n",
       "        text-align: right;\n",
       "    }\n",
       "</style>\n",
       "<table border=\"1\" class=\"dataframe\">\n",
       "  <thead>\n",
       "    <tr style=\"text-align: right;\">\n",
       "      <th></th>\n",
       "      <th>R^2</th>\n",
       "      <th>RMSE</th>\n",
       "      <th>MAE</th>\n",
       "      <th>Skill</th>\n",
       "    </tr>\n",
       "    <tr>\n",
       "      <th>key</th>\n",
       "      <th></th>\n",
       "      <th></th>\n",
       "      <th></th>\n",
       "      <th></th>\n",
       "    </tr>\n",
       "  </thead>\n",
       "  <tbody>\n",
       "    <tr>\n",
       "      <th>station00.csv</th>\n",
       "      <td>0.8701</td>\n",
       "      <td>0.0826</td>\n",
       "      <td>0.0409</td>\n",
       "      <td>0.3920</td>\n",
       "    </tr>\n",
       "    <tr>\n",
       "      <th>station01.csv</th>\n",
       "      <td>0.9440</td>\n",
       "      <td>0.0719</td>\n",
       "      <td>0.0428</td>\n",
       "      <td>0.5352</td>\n",
       "    </tr>\n",
       "    <tr>\n",
       "      <th>station02.csv</th>\n",
       "      <td>0.9565</td>\n",
       "      <td>0.0536</td>\n",
       "      <td>0.0308</td>\n",
       "      <td>0.6343</td>\n",
       "    </tr>\n",
       "    <tr>\n",
       "      <th>station04.csv</th>\n",
       "      <td>0.6095</td>\n",
       "      <td>0.2400</td>\n",
       "      <td>0.1429</td>\n",
       "      <td>0.0167</td>\n",
       "    </tr>\n",
       "    <tr>\n",
       "      <th>station06.csv</th>\n",
       "      <td>0.8543</td>\n",
       "      <td>0.0811</td>\n",
       "      <td>0.0488</td>\n",
       "      <td>0.2585</td>\n",
       "    </tr>\n",
       "    <tr>\n",
       "      <th>station07.csv</th>\n",
       "      <td>0.9229</td>\n",
       "      <td>0.0685</td>\n",
       "      <td>0.0361</td>\n",
       "      <td>0.5273</td>\n",
       "    </tr>\n",
       "    <tr>\n",
       "      <th>station08.csv</th>\n",
       "      <td>0.9624</td>\n",
       "      <td>0.0489</td>\n",
       "      <td>0.0278</td>\n",
       "      <td>0.6696</td>\n",
       "    </tr>\n",
       "  </tbody>\n",
       "</table>\n",
       "</div>"
      ],
      "text/plain": [
       "                  R^2    RMSE     MAE   Skill\n",
       "key                                          \n",
       "station00.csv  0.8701  0.0826  0.0409  0.3920\n",
       "station01.csv  0.9440  0.0719  0.0428  0.5352\n",
       "station02.csv  0.9565  0.0536  0.0308  0.6343\n",
       "station04.csv  0.6095  0.2400  0.1429  0.0167\n",
       "station06.csv  0.8543  0.0811  0.0488  0.2585\n",
       "station07.csv  0.9229  0.0685  0.0361  0.5273\n",
       "station08.csv  0.9624  0.0489  0.0278  0.6696"
      ]
     },
     "execution_count": 53,
     "metadata": {},
     "output_type": "execute_result"
    }
   ],
   "source": [
    "fl_results['evaluation'][['R^2', 'RMSE', 'MAE', 'Skill', 'key']].round(4).set_index('key')"
   ]
  },
  {
   "cell_type": "code",
   "execution_count": null,
   "id": "721f3d4c",
   "metadata": {},
   "outputs": [
    {
     "ename": "TypeError",
     "evalue": "'NoneType' object is not subscriptable",
     "output_type": "error",
     "traceback": [
      "\u001b[0;31m---------------------------------------------------------------------------\u001b[0m",
      "\u001b[0;31mTypeError\u001b[0m                                 Traceback (most recent call last)",
      "\u001b[0;32m/tmp/ipykernel_1105093/2814172129.py\u001b[0m in \u001b[0;36m<module>\u001b[0;34m\u001b[0m\n\u001b[0;32m----> 1\u001b[0;31m \u001b[0mcl_results\u001b[0m\u001b[0;34m[\u001b[0m\u001b[0;34m'evaluation'\u001b[0m\u001b[0;34m]\u001b[0m\u001b[0;34m\u001b[0m\u001b[0;34m\u001b[0m\u001b[0m\n\u001b[0m",
      "\u001b[0;31mTypeError\u001b[0m: 'NoneType' object is not subscriptable"
     ]
    }
   ],
   "source": [
    "cl_results['evaluation']"
   ]
  },
  {
   "cell_type": "code",
   "execution_count": null,
   "id": "6d03282f",
   "metadata": {},
   "outputs": [],
   "source": []
  }
 ],
 "metadata": {
  "kernelspec": {
   "display_name": "frcst",
   "language": "python",
   "name": "python3"
  },
  "language_info": {
   "codemirror_mode": {
    "name": "ipython",
    "version": 3
   },
   "file_extension": ".py",
   "mimetype": "text/x-python",
   "name": "python",
   "nbconvert_exporter": "python",
   "pygments_lexer": "ipython3",
   "version": "3.10.12"
  }
 },
 "nbformat": 4,
 "nbformat_minor": 5
}
